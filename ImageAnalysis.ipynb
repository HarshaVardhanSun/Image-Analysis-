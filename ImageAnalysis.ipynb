{
  "nbformat": 4,
  "nbformat_minor": 0,
  "metadata": {
    "colab": {
      "provenance": []
    },
    "kernelspec": {
      "name": "python3",
      "display_name": "Python 3"
    },
    "language_info": {
      "name": "python"
    }
  },
  "cells": [
    {
      "cell_type": "markdown",
      "source": [
        "Import necessary library "
      ],
      "metadata": {
        "id": "dV7z0Zb22RYt"
      }
    },
    {
      "cell_type": "code",
      "execution_count": 6,
      "metadata": {
        "id": "2G7BWQHQIGiS"
      },
      "outputs": [],
      "source": [
        "import numpy as np\n",
        "from tensorflow.keras.datasets import cifar10\n",
        "from tensorflow.keras.models import Sequential\n",
        "from tensorflow.keras.layers import Dense, Dropout, Flatten, Conv2D, MaxPooling2D\n",
        "from tensorflow.keras.optimizers import Adam\n",
        "from sklearn.svm import SVC\n",
        "from sklearn.metrics import accuracy_score\n",
        "\n"
      ]
    },
    {
      "cell_type": "code",
      "source": [
        "#load the CIFAR-10 dataset and split it with train and test\n",
        "(trainX, trainy), (testX, testy) = cifar10.load_data()"
      ],
      "metadata": {
        "id": "Yb7AVhGGp6LM"
      },
      "execution_count": 7,
      "outputs": []
    },
    {
      "cell_type": "markdown",
      "source": [
        "Scaling the pixel values train data and One-hot encoding the labels like test"
      ],
      "metadata": {
        "id": "pZMaYBfxp4mD"
      }
    },
    {
      "cell_type": "code",
      "source": [
        "# preprocess the data\n",
        "trainX = trainX.astype('float32') / 255.0\n",
        "testX = testX.astype('float32') / 255.0\n",
        "\n",
        "num_classes = 10 # we have 10 different labels to differentiate the images\n",
        "trainy = np.eye(num_classes)[trainy.reshape(-1)]\n",
        "testy = np.eye(num_classes)[testy.reshape(-1)]"
      ],
      "metadata": {
        "id": "N-zmQoGFJDlo"
      },
      "execution_count": 8,
      "outputs": []
    },
    {
      "cell_type": "code",
      "source": [
        "print(trainX.shape)\n",
        "print(trainy.shape)"
      ],
      "metadata": {
        "colab": {
          "base_uri": "https://localhost:8080/",
          "height": 0
        },
        "id": "kjqp4B-j7Qac",
        "outputId": "31ee8f9b-d77f-4c6b-a908-a48e0183dacb"
      },
      "execution_count": 9,
      "outputs": [
        {
          "output_type": "stream",
          "name": "stdout",
          "text": [
            "(50000, 32, 32, 3)\n",
            "(50000, 10)\n"
          ]
        }
      ]
    },
    {
      "cell_type": "code",
      "source": [
        "trainX, valX = trainX[:40000], trainX[10000:]\n",
        "trainy, valy = trainy[:40000], trainy[10000:]"
      ],
      "metadata": {
        "id": "JqWH7qUC7Nrp"
      },
      "execution_count": 10,
      "outputs": []
    },
    {
      "cell_type": "markdown",
      "source": [
        "Building fully connected layers"
      ],
      "metadata": {
        "id": "uanNxn6yp4I6"
      }
    },
    {
      "cell_type": "code",
      "source": [
        "# define the CNN model\n",
        "model = Sequential()\n",
        "\n",
        "model.add(Conv2D(32, (3, 3), activation='relu', padding='same', input_shape=trainX.shape[1:]))\n",
        "model.add(Conv2D(16, (3, 3), activation='relu'))\n",
        "model.add(MaxPooling2D(pool_size=(2, 2)))\n",
        "model.add(Dropout(0.25))\n",
        "\n",
        "model.add(Conv2D(64, (3, 3), activation='relu', padding='same'))\n",
        "model.add(Conv2D(32, (3, 3), activation='relu'))\n",
        "model.add(MaxPooling2D(pool_size=(2, 2)))\n",
        "model.add(Dropout(0.25))\n",
        "\n",
        "model.add(Flatten())\n",
        "model.add(Dense(256, activation='relu'))\n",
        "model.add(Dropout(0.5))\n",
        "model.add(Dense(num_classes, activation='softmax'))"
      ],
      "metadata": {
        "id": "SVje2u-vJI0w"
      },
      "execution_count": 11,
      "outputs": []
    },
    {
      "cell_type": "markdown",
      "source": [
        "Compile the given model by using optimizer"
      ],
      "metadata": {
        "id": "TeA_yzfC29NI"
      }
    },
    {
      "cell_type": "code",
      "source": [
        "# compile the model by decreasing the learning curve\n",
        "optimizer = Adam(lr=0.001)\n",
        "model.compile(loss='categorical_crossentropy', optimizer=optimizer, metrics=['accuracy'])"
      ],
      "metadata": {
        "colab": {
          "base_uri": "https://localhost:8080/",
          "height": 0
        },
        "id": "rWBJIY6TqHKp",
        "outputId": "5aedfc55-2491-4114-8c86-0fb1429ea6bd"
      },
      "execution_count": 12,
      "outputs": [
        {
          "output_type": "stream",
          "name": "stderr",
          "text": [
            "WARNING:absl:`lr` is deprecated in Keras optimizer, please use `learning_rate` or use the legacy optimizer, e.g.,tf.keras.optimizers.legacy.Adam.\n"
          ]
        }
      ]
    },
    {
      "cell_type": "markdown",
      "source": [
        "filt model with train portion for 10 epochs"
      ],
      "metadata": {
        "id": "2klwPQEjp3XI"
      }
    },
    {
      "cell_type": "code",
      "source": [
        "# train the model\n",
        "model.fit(trainX, trainy, batch_size=18, epochs=14, validation_data=(testX, testy))\n"
      ],
      "metadata": {
        "colab": {
          "base_uri": "https://localhost:8080/",
          "height": 0
        },
        "id": "deD04YdXJKKd",
        "outputId": "46e22e25-1d8e-4e3a-ae0f-3d34729e1c24"
      },
      "execution_count": 13,
      "outputs": [
        {
          "output_type": "stream",
          "name": "stdout",
          "text": [
            "Epoch 1/14\n",
            "2223/2223 [==============================] - 185s 82ms/step - loss: 1.6733 - accuracy: 0.3814 - val_loss: 1.3640 - val_accuracy: 0.5018\n",
            "Epoch 2/14\n",
            "2223/2223 [==============================] - 182s 82ms/step - loss: 1.3573 - accuracy: 0.5094 - val_loss: 1.2128 - val_accuracy: 0.5647\n",
            "Epoch 3/14\n",
            "2223/2223 [==============================] - 183s 82ms/step - loss: 1.2391 - accuracy: 0.5595 - val_loss: 1.1525 - val_accuracy: 0.5869\n",
            "Epoch 4/14\n",
            "2223/2223 [==============================] - 183s 82ms/step - loss: 1.1607 - accuracy: 0.5874 - val_loss: 1.0587 - val_accuracy: 0.6306\n",
            "Epoch 5/14\n",
            "2223/2223 [==============================] - 181s 81ms/step - loss: 1.1131 - accuracy: 0.6043 - val_loss: 0.9808 - val_accuracy: 0.6531\n",
            "Epoch 6/14\n",
            "2223/2223 [==============================] - 183s 82ms/step - loss: 1.0623 - accuracy: 0.6235 - val_loss: 0.9577 - val_accuracy: 0.6636\n",
            "Epoch 7/14\n",
            "2223/2223 [==============================] - 181s 81ms/step - loss: 1.0291 - accuracy: 0.6387 - val_loss: 0.9386 - val_accuracy: 0.6721\n",
            "Epoch 8/14\n",
            "2223/2223 [==============================] - 183s 82ms/step - loss: 1.0062 - accuracy: 0.6450 - val_loss: 0.9361 - val_accuracy: 0.6697\n",
            "Epoch 9/14\n",
            "2223/2223 [==============================] - 183s 82ms/step - loss: 0.9804 - accuracy: 0.6557 - val_loss: 0.9405 - val_accuracy: 0.6638\n",
            "Epoch 10/14\n",
            "2223/2223 [==============================] - 183s 82ms/step - loss: 0.9628 - accuracy: 0.6583 - val_loss: 0.9932 - val_accuracy: 0.6565\n",
            "Epoch 11/14\n",
            "2223/2223 [==============================] - 184s 83ms/step - loss: 0.9454 - accuracy: 0.6682 - val_loss: 0.8685 - val_accuracy: 0.6976\n",
            "Epoch 12/14\n",
            "2223/2223 [==============================] - 183s 82ms/step - loss: 0.9236 - accuracy: 0.6750 - val_loss: 0.8933 - val_accuracy: 0.6926\n",
            "Epoch 13/14\n",
            "2223/2223 [==============================] - 182s 82ms/step - loss: 0.9129 - accuracy: 0.6813 - val_loss: 0.8621 - val_accuracy: 0.7001\n",
            "Epoch 14/14\n",
            "2223/2223 [==============================] - 182s 82ms/step - loss: 0.8998 - accuracy: 0.6827 - val_loss: 0.8275 - val_accuracy: 0.7121\n"
          ]
        },
        {
          "output_type": "execute_result",
          "data": {
            "text/plain": [
              "<keras.callbacks.History at 0x7f28492856c0>"
            ]
          },
          "metadata": {},
          "execution_count": 13
        }
      ]
    },
    {
      "cell_type": "markdown",
      "source": [
        "featureExtractor model to extract features from the fully connected layer for both the training set trainX and the test set testX. "
      ],
      "metadata": {
        "id": "XigGZgMQp248"
      }
    },
    {
      "cell_type": "code",
      "source": [
        "# extract features from the fully connected layer before the output layer\n",
        "from tensorflow.keras.models import Model\n",
        "\n",
        "# as asked I am using exctaction on the valdation set\n",
        "featureExtractor = Model(inputs=model.inputs, outputs=model.layers[-2].output)\n",
        "val_features = featureExtractor.predict(valX)\n",
        "test_features = featureExtractor.predict(testX)\n"
      ],
      "metadata": {
        "colab": {
          "base_uri": "https://localhost:8080/",
          "height": 0
        },
        "id": "mpfvigamJNcU",
        "outputId": "bca26de7-427b-4195-c7d6-9b54ae26eb9e"
      },
      "execution_count": 14,
      "outputs": [
        {
          "output_type": "stream",
          "name": "stdout",
          "text": [
            "1250/1250 [==============================] - 38s 30ms/step\n",
            "313/313 [==============================] - 9s 30ms/step\n"
          ]
        }
      ]
    },
    {
      "cell_type": "markdown",
      "source": [
        "Build SVMModel model and use the above feature extraction."
      ],
      "metadata": {
        "id": "hr2txGEgp1MG"
      }
    },
    {
      "cell_type": "code",
      "source": [
        "# train an SVMModel using the extracted features\n",
        "SVMModel = SVC(kernel='linear')\n",
        "SVMModel.fit(val_features, np.argmax(valy, axis=1))\n",
        "\n",
        "# evaluate the SVMModel on the test set\n",
        "test_pred = SVMModel.predict(test_features)\n"
      ],
      "metadata": {
        "id": "HgWysewOJQ2D"
      },
      "execution_count": 15,
      "outputs": []
    },
    {
      "cell_type": "markdown",
      "source": [
        "Calculate the Accuracy, F1 Score and Recall."
      ],
      "metadata": {
        "id": "nRQg9bs5p0Zm"
      }
    },
    {
      "cell_type": "code",
      "source": [
        "from sklearn.metrics import accuracy_score, f1_score, recall_score\n",
        "\n",
        "# calculate accuracy\n",
        "accuracy = accuracy_score(np.argmax(testy, axis=1), test_pred)\n",
        "print(\"Accuracy:\", accuracy)\n",
        "\n",
        "# calculate F1 score\n",
        "f1 = f1_score(np.argmax(testy, axis=1), test_pred, average='weighted')\n",
        "print(\"F1 score:\", f1)\n",
        "\n",
        "# calculate recall\n",
        "recall = recall_score(np.argmax(testy, axis=1), test_pred, average='weighted')\n",
        "print(\"Recall:\", recall)"
      ],
      "metadata": {
        "id": "dcCcN6uoJSzT",
        "colab": {
          "base_uri": "https://localhost:8080/",
          "height": 0
        },
        "outputId": "2546831b-576b-48fe-87ad-23ab36f4629e"
      },
      "execution_count": 16,
      "outputs": [
        {
          "output_type": "stream",
          "name": "stdout",
          "text": [
            "Accuracy: 0.7185\n",
            "F1 score: 0.7188419778639129\n",
            "Recall: 0.7185\n"
          ]
        }
      ]
    },
    {
      "cell_type": "code",
      "source": [
        "import matplotlib.pyplot as plt\n",
        "\n",
        "# plot the metrics\n",
        "labels = ['Accuracy', 'F1 Score', 'Recall']\n",
        "scores = [accuracy, f1, recall]\n",
        "colors = ['green', 'blue', 'orange']\n",
        "plt.bar(labels, scores, color=colors)\n",
        "plt.ylim(0, 1.0)\n",
        "plt.title('Performance Metrics')\n",
        "plt.show()"
      ],
      "metadata": {
        "colab": {
          "base_uri": "https://localhost:8080/",
          "height": 452
        },
        "id": "kVvTESFae0zr",
        "outputId": "c92c36ff-2eb0-4bcc-97da-16144826a534"
      },
      "execution_count": 19,
      "outputs": [
        {
          "output_type": "display_data",
          "data": {
            "text/plain": [
              "<Figure size 640x480 with 1 Axes>"
            ],
            "image/png": "[encoded data removed]"
          },
          "metadata": {}
        }
      ]
    },
    {
      "cell_type": "code",
      "source": [],
      "metadata": {
        "id": "maX8d5b_reVU"
      },
      "execution_count": 18,
      "outputs": []
    }
  ]
}
